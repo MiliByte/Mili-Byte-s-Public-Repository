{
  "metadata": {
    "kernelspec": {
      "name": "python",
      "display_name": "Python (Pyodide)",
      "language": "python"
    },
    "language_info": {
      "codemirror_mode": {
        "name": "python",
        "version": 3
      },
      "file_extension": ".py",
      "mimetype": "text/x-python",
      "name": "python",
      "nbconvert_exporter": "python",
      "pygments_lexer": "ipython3",
      "version": "3.8"
    }
  },
  "nbformat_minor": 4,
  "nbformat": 4,
  "cells": [
    {
      "cell_type": "markdown",
      "source": "# __Data Science Tools and Ecosystem__",
      "metadata": {}
    },
    {
      "cell_type": "markdown",
      "source": "In this notebook, Data Science Tools and Ecosystem are summarized.",
      "metadata": {}
    },
    {
      "cell_type": "markdown",
      "source": "__Some of the popular languages that Data Scientists use are:__\n1. Python\n2. R\n4. Sql",
      "metadata": {}
    },
    {
      "cell_type": "markdown",
      "source": "__Some of the libraries used by Data Scientists include:__\n1. NumPy\n2. Matplotlib\n3. Pandas\n4. Plotly",
      "metadata": {}
    },
    {
      "cell_type": "markdown",
      "source": "__Data Science Tools__\n| Data-Mani | Data-Clean | Data-Viz | \n|-----------|------------|----------|\n| RStudio | RStudio | RStudio |\n| BigQuery | BigQuery | Tableau |",
      "metadata": {}
    },
    {
      "cell_type": "markdown",
      "source": "## __Below are a few examples of evaluating arithmetic expressions in Python__",
      "metadata": {}
    },
    {
      "cell_type": "code",
      "source": "\"This a simple arithmetic expression to mutiply then add integers\"\n(3*4)+5",
      "metadata": {
        "trusted": true
      },
      "outputs": [
        {
          "execution_count": 1,
          "output_type": "execute_result",
          "data": {
            "text/plain": "17"
          },
          "metadata": {}
        }
      ],
      "execution_count": 1
    },
    {
      "cell_type": "code",
      "source": "\"This will convert 200 minutes to hours by diving by 60\"\n200/60",
      "metadata": {
        "trusted": true
      },
      "outputs": [],
      "execution_count": null
    },
    {
      "cell_type": "markdown",
      "source": "__Objectives:__\n- List popular languages for Data Science\n- List popular libraries used for Data Science\n- List popular tools for Data Science",
      "metadata": {}
    },
    {
      "cell_type": "markdown",
      "source": "## Author\nMili B",
      "metadata": {}
    },
    {
      "cell_type": "code",
      "source": "",
      "metadata": {
        "trusted": true
      },
      "outputs": [],
      "execution_count": null
    }
  ]
}